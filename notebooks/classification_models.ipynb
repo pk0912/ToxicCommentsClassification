{
 "cells": [
  {
   "cell_type": "markdown",
   "metadata": {},
   "source": [
    "## OBJECTIVE : "
   ]
  },
  {
   "cell_type": "markdown",
   "metadata": {},
   "source": [
    "### Prepare classification model for classifying comments into various categories : toxic, severe_toxic, obscene, threat, insult, identity_hate"
   ]
  },
  {
   "cell_type": "code",
   "execution_count": 1,
   "metadata": {},
   "outputs": [],
   "source": [
    "import warnings\n",
    "warnings.simplefilter(\"ignore\")"
   ]
  },
  {
   "cell_type": "code",
   "execution_count": 2,
   "metadata": {},
   "outputs": [
    {
     "name": "stdout",
     "output_type": "stream",
     "text": [
      "Numpy Version :  1.18.2\n",
      "Pandas Version :  1.0.3\n",
      "Matplotlib Version :  3.2.1\n"
     ]
    }
   ],
   "source": [
    "import os\n",
    "import sys\n",
    "import ipdb\n",
    "import numpy as np\n",
    "import pandas as pd\n",
    "\n",
    "print(\"Numpy Version : \", np.__version__)\n",
    "print(\"Pandas Version : \", pd.__version__)\n",
    "\n",
    "np.random.seed(42)\n",
    "\n",
    "%matplotlib inline\n",
    "import matplotlib as mpl\n",
    "import matplotlib.pyplot as plt\n",
    "import seaborn as sns\n",
    "mpl.rc('axes', labelsize=14)\n",
    "mpl.rc('xtick', labelsize=12)\n",
    "mpl.rc('ytick', labelsize=12)\n",
    "\n",
    "print(\"Matplotlib Version : \", mpl.__version__)"
   ]
  },
  {
   "cell_type": "code",
   "execution_count": 72,
   "metadata": {},
   "outputs": [],
   "source": [
    "from joblib import load\n",
    "from tensorflow.keras.layers import Dense, Input, GlobalMaxPooling1D, LSTM, GlobalMaxPool1D, Bidirectional\n",
    "from tensorflow.keras.layers import Conv1D, MaxPooling1D, Embedding, Dropout, AlphaDropout\n",
    "from tensorflow.keras.models import Model\n",
    "from tensorflow.keras.optimizers import SGD, Nadam\n",
    "from sklearn.metrics import accuracy_score, roc_auc_score, confusion_matrix, classification_report, precision_score, recall_score, f1_score"
   ]
  },
  {
   "cell_type": "code",
   "execution_count": 4,
   "metadata": {},
   "outputs": [],
   "source": [
    "sys.path.insert(0, os.path.abspath(os.path.join(\"..\")))"
   ]
  },
  {
   "cell_type": "code",
   "execution_count": 5,
   "metadata": {},
   "outputs": [],
   "source": [
    "import utils.text_processing as tp\n",
    "from config import GLOVE_PATH, MAX_VOCAB_SIZE, MAX_SEQUENCE_LENGTH, EMBEDDING_DIM, VALIDATION_SPLIT, BATCH_SIZE, EPOCHS"
   ]
  },
  {
   "cell_type": "code",
   "execution_count": 6,
   "metadata": {},
   "outputs": [],
   "source": [
    "DATA_DIR = \"../data/\"\n",
    "OBJECT_DIR = \"../objects/\"\n",
    "LOG_DIR = \"../logs/\""
   ]
  },
  {
   "cell_type": "code",
   "execution_count": 7,
   "metadata": {},
   "outputs": [],
   "source": [
    "TRAIN_DIR = os.path.join(DATA_DIR, \"training_data/word_2_index/\")"
   ]
  },
  {
   "cell_type": "code",
   "execution_count": 8,
   "metadata": {},
   "outputs": [],
   "source": [
    "CLASSES = [\"toxic\", \"severe_toxic\", \"obscene\", \"threat\", \"insult\", \"identity_hate\"]"
   ]
  },
  {
   "cell_type": "code",
   "execution_count": 9,
   "metadata": {},
   "outputs": [],
   "source": [
    "train_data = pd.read_csv(os.path.join(TRAIN_DIR, \"vectors_complex.csv\"), encoding=\"utf-8\")"
   ]
  },
  {
   "cell_type": "code",
   "execution_count": 10,
   "metadata": {},
   "outputs": [
    {
     "data": {
      "text/html": [
       "<div>\n",
       "<style scoped>\n",
       "    .dataframe tbody tr th:only-of-type {\n",
       "        vertical-align: middle;\n",
       "    }\n",
       "\n",
       "    .dataframe tbody tr th {\n",
       "        vertical-align: top;\n",
       "    }\n",
       "\n",
       "    .dataframe thead th {\n",
       "        text-align: right;\n",
       "    }\n",
       "</style>\n",
       "<table border=\"1\" class=\"dataframe\">\n",
       "  <thead>\n",
       "    <tr style=\"text-align: right;\">\n",
       "      <th></th>\n",
       "      <th>0</th>\n",
       "      <th>1</th>\n",
       "      <th>2</th>\n",
       "      <th>3</th>\n",
       "      <th>4</th>\n",
       "      <th>5</th>\n",
       "      <th>6</th>\n",
       "      <th>7</th>\n",
       "      <th>8</th>\n",
       "      <th>9</th>\n",
       "      <th>...</th>\n",
       "      <th>96</th>\n",
       "      <th>97</th>\n",
       "      <th>98</th>\n",
       "      <th>99</th>\n",
       "      <th>toxic</th>\n",
       "      <th>severe_toxic</th>\n",
       "      <th>obscene</th>\n",
       "      <th>threat</th>\n",
       "      <th>insult</th>\n",
       "      <th>identity_hate</th>\n",
       "    </tr>\n",
       "  </thead>\n",
       "  <tbody>\n",
       "    <tr>\n",
       "      <th>0</th>\n",
       "      <td>0</td>\n",
       "      <td>0</td>\n",
       "      <td>0</td>\n",
       "      <td>0</td>\n",
       "      <td>0</td>\n",
       "      <td>0</td>\n",
       "      <td>0</td>\n",
       "      <td>0</td>\n",
       "      <td>0</td>\n",
       "      <td>0</td>\n",
       "      <td>...</td>\n",
       "      <td>2</td>\n",
       "      <td>2058</td>\n",
       "      <td>16</td>\n",
       "      <td>15</td>\n",
       "      <td>0</td>\n",
       "      <td>0</td>\n",
       "      <td>0</td>\n",
       "      <td>0</td>\n",
       "      <td>0</td>\n",
       "      <td>0</td>\n",
       "    </tr>\n",
       "    <tr>\n",
       "      <th>1</th>\n",
       "      <td>0</td>\n",
       "      <td>0</td>\n",
       "      <td>0</td>\n",
       "      <td>0</td>\n",
       "      <td>0</td>\n",
       "      <td>0</td>\n",
       "      <td>0</td>\n",
       "      <td>0</td>\n",
       "      <td>0</td>\n",
       "      <td>0</td>\n",
       "      <td>...</td>\n",
       "      <td>697</td>\n",
       "      <td>9</td>\n",
       "      <td>4</td>\n",
       "      <td>91</td>\n",
       "      <td>0</td>\n",
       "      <td>0</td>\n",
       "      <td>0</td>\n",
       "      <td>0</td>\n",
       "      <td>0</td>\n",
       "      <td>0</td>\n",
       "    </tr>\n",
       "    <tr>\n",
       "      <th>2</th>\n",
       "      <td>0</td>\n",
       "      <td>0</td>\n",
       "      <td>0</td>\n",
       "      <td>0</td>\n",
       "      <td>0</td>\n",
       "      <td>0</td>\n",
       "      <td>0</td>\n",
       "      <td>0</td>\n",
       "      <td>0</td>\n",
       "      <td>0</td>\n",
       "      <td>...</td>\n",
       "      <td>218</td>\n",
       "      <td>571</td>\n",
       "      <td>76</td>\n",
       "      <td>302</td>\n",
       "      <td>0</td>\n",
       "      <td>0</td>\n",
       "      <td>0</td>\n",
       "      <td>0</td>\n",
       "      <td>0</td>\n",
       "      <td>0</td>\n",
       "    </tr>\n",
       "    <tr>\n",
       "      <th>3</th>\n",
       "      <td>0</td>\n",
       "      <td>0</td>\n",
       "      <td>0</td>\n",
       "      <td>0</td>\n",
       "      <td>0</td>\n",
       "      <td>0</td>\n",
       "      <td>0</td>\n",
       "      <td>0</td>\n",
       "      <td>0</td>\n",
       "      <td>0</td>\n",
       "      <td>...</td>\n",
       "      <td>17</td>\n",
       "      <td>1</td>\n",
       "      <td>680</td>\n",
       "      <td>2996</td>\n",
       "      <td>0</td>\n",
       "      <td>0</td>\n",
       "      <td>0</td>\n",
       "      <td>0</td>\n",
       "      <td>0</td>\n",
       "      <td>0</td>\n",
       "    </tr>\n",
       "    <tr>\n",
       "      <th>4</th>\n",
       "      <td>0</td>\n",
       "      <td>0</td>\n",
       "      <td>0</td>\n",
       "      <td>0</td>\n",
       "      <td>0</td>\n",
       "      <td>0</td>\n",
       "      <td>0</td>\n",
       "      <td>0</td>\n",
       "      <td>0</td>\n",
       "      <td>0</td>\n",
       "      <td>...</td>\n",
       "      <td>2140</td>\n",
       "      <td>677</td>\n",
       "      <td>371</td>\n",
       "      <td>2</td>\n",
       "      <td>0</td>\n",
       "      <td>0</td>\n",
       "      <td>0</td>\n",
       "      <td>0</td>\n",
       "      <td>0</td>\n",
       "      <td>0</td>\n",
       "    </tr>\n",
       "  </tbody>\n",
       "</table>\n",
       "<p>5 rows × 106 columns</p>\n",
       "</div>"
      ],
      "text/plain": [
       "   0  1  2  3  4  5  6  7  8  9  ...    96    97   98    99  toxic  \\\n",
       "0  0  0  0  0  0  0  0  0  0  0  ...     2  2058   16    15      0   \n",
       "1  0  0  0  0  0  0  0  0  0  0  ...   697     9    4    91      0   \n",
       "2  0  0  0  0  0  0  0  0  0  0  ...   218   571   76   302      0   \n",
       "3  0  0  0  0  0  0  0  0  0  0  ...    17     1  680  2996      0   \n",
       "4  0  0  0  0  0  0  0  0  0  0  ...  2140   677  371     2      0   \n",
       "\n",
       "   severe_toxic  obscene  threat  insult  identity_hate  \n",
       "0             0        0       0       0              0  \n",
       "1             0        0       0       0              0  \n",
       "2             0        0       0       0              0  \n",
       "3             0        0       0       0              0  \n",
       "4             0        0       0       0              0  \n",
       "\n",
       "[5 rows x 106 columns]"
      ]
     },
     "execution_count": 10,
     "metadata": {},
     "output_type": "execute_result"
    }
   ],
   "source": [
    "train_data.head()"
   ]
  },
  {
   "cell_type": "code",
   "execution_count": 11,
   "metadata": {},
   "outputs": [],
   "source": [
    "X = train_data[[str(i) for i in np.arange(0, 100, 1)]].values\n",
    "y = train_data[CLASSES].values"
   ]
  },
  {
   "cell_type": "code",
   "execution_count": 12,
   "metadata": {},
   "outputs": [
    {
     "data": {
      "text/plain": [
       "((159356, 100), (159356, 6))"
      ]
     },
     "execution_count": 12,
     "metadata": {},
     "output_type": "execute_result"
    }
   ],
   "source": [
    "X.shape, y.shape"
   ]
  },
  {
   "cell_type": "code",
   "execution_count": 13,
   "metadata": {},
   "outputs": [
    {
     "data": {
      "text/plain": [
       "array([[   0,    0,    0, ..., 2058,   16,   15],\n",
       "       [   0,    0,    0, ...,    9,    4,   91],\n",
       "       [   0,    0,    0, ...,  571,   76,  302],\n",
       "       ...,\n",
       "       [   0,    0,    0, ..., 2029, 9403, 2902],\n",
       "       [   0,    0,    0, ...,  189,   18,   27],\n",
       "       [   0,    0,    0, ...,  206,   30,  958]])"
      ]
     },
     "execution_count": 13,
     "metadata": {},
     "output_type": "execute_result"
    }
   ],
   "source": [
    "X"
   ]
  },
  {
   "cell_type": "code",
   "execution_count": 14,
   "metadata": {},
   "outputs": [
    {
     "data": {
      "text/plain": [
       "array([[0, 0, 0, 0, 0, 0],\n",
       "       [0, 0, 0, 0, 0, 0],\n",
       "       [0, 0, 0, 0, 0, 0],\n",
       "       ...,\n",
       "       [0, 0, 0, 0, 0, 0],\n",
       "       [0, 0, 0, 0, 0, 0],\n",
       "       [0, 0, 0, 0, 0, 0]])"
      ]
     },
     "execution_count": 14,
     "metadata": {},
     "output_type": "execute_result"
    }
   ],
   "source": [
    "y"
   ]
  },
  {
   "cell_type": "code",
   "execution_count": 15,
   "metadata": {},
   "outputs": [],
   "source": [
    "tokenizer = load(os.path.join(OBJECT_DIR, \"tokenizer.joblib\"))"
   ]
  },
  {
   "cell_type": "code",
   "execution_count": 16,
   "metadata": {},
   "outputs": [],
   "source": [
    "word_ind_dict = tokenizer.word_index"
   ]
  },
  {
   "cell_type": "code",
   "execution_count": 17,
   "metadata": {},
   "outputs": [
    {
     "data": {
      "text/plain": [
       "'/home/praveen/pk_works/nlp/glove/glove.6B.100d.txt'"
      ]
     },
     "execution_count": 17,
     "metadata": {},
     "output_type": "execute_result"
    }
   ],
   "source": [
    "GLOVE_PATH = \"/home/praveen/pk_works/nlp/glove\"\n",
    "GLOVE_PATH = os.path.join(GLOVE_PATH, \"glove.6B.{}d.txt\".format(EMBEDDING_DIM))\n",
    "GLOVE_PATH"
   ]
  },
  {
   "cell_type": "code",
   "execution_count": 18,
   "metadata": {},
   "outputs": [],
   "source": [
    "num_words = min(MAX_VOCAB_SIZE, len(word_ind_dict) + 1)"
   ]
  },
  {
   "cell_type": "code",
   "execution_count": 19,
   "metadata": {},
   "outputs": [
    {
     "data": {
      "text/plain": [
       "20000"
      ]
     },
     "execution_count": 19,
     "metadata": {},
     "output_type": "execute_result"
    }
   ],
   "source": [
    "num_words"
   ]
  },
  {
   "cell_type": "code",
   "execution_count": 20,
   "metadata": {},
   "outputs": [
    {
     "data": {
      "text/plain": [
       "151081"
      ]
     },
     "execution_count": 20,
     "metadata": {},
     "output_type": "execute_result"
    }
   ],
   "source": [
    "len(word_ind_dict)"
   ]
  },
  {
   "cell_type": "code",
   "execution_count": 21,
   "metadata": {},
   "outputs": [],
   "source": [
    "embed_matrix = tp.get_embedding_matrix(GLOVE_PATH, word_ind_dict, num_words, EMBEDDING_DIM, MAX_VOCAB_SIZE)"
   ]
  },
  {
   "cell_type": "code",
   "execution_count": 22,
   "metadata": {},
   "outputs": [],
   "source": [
    "embed_layer = tp.get_embedding_layer(num_words, EMBEDDING_DIM, embed_matrix, MAX_SEQUENCE_LENGTH)"
   ]
  },
  {
   "cell_type": "code",
   "execution_count": 23,
   "metadata": {},
   "outputs": [
    {
     "data": {
      "text/plain": [
       "(20000, 100)"
      ]
     },
     "execution_count": 23,
     "metadata": {},
     "output_type": "execute_result"
    }
   ],
   "source": [
    "embed_matrix.shape"
   ]
  },
  {
   "cell_type": "code",
   "execution_count": 24,
   "metadata": {},
   "outputs": [
    {
     "data": {
      "text/plain": [
       "{'name': 'embedding',\n",
       " 'trainable': False,\n",
       " 'batch_input_shape': (None, 100),\n",
       " 'dtype': 'float32',\n",
       " 'input_dim': 20000,\n",
       " 'output_dim': 100,\n",
       " 'embeddings_initializer': {'class_name': 'RandomUniform',\n",
       "  'config': {'minval': -0.05, 'maxval': 0.05, 'seed': None}},\n",
       " 'embeddings_regularizer': None,\n",
       " 'activity_regularizer': None,\n",
       " 'embeddings_constraint': None,\n",
       " 'mask_zero': False,\n",
       " 'input_length': 100}"
      ]
     },
     "execution_count": 24,
     "metadata": {},
     "output_type": "execute_result"
    }
   ],
   "source": [
    "embed_layer.get_config()"
   ]
  },
  {
   "cell_type": "code",
   "execution_count": 25,
   "metadata": {},
   "outputs": [
    {
     "data": {
      "text/plain": [
       "(20000, 100, 100)"
      ]
     },
     "execution_count": 25,
     "metadata": {},
     "output_type": "execute_result"
    }
   ],
   "source": [
    "num_words, EMBEDDING_DIM, MAX_SEQUENCE_LENGTH"
   ]
  },
  {
   "cell_type": "code",
   "execution_count": 26,
   "metadata": {},
   "outputs": [],
   "source": [
    "def create_cnn_model():\n",
    "    # train a 1D convnet with global maxpooling\n",
    "    input_ = Input(shape=(MAX_SEQUENCE_LENGTH,))\n",
    "    x = embed_layer(input_)\n",
    "    x = Conv1D(128, 3, activation='relu', kernel_initializer=\"he_normal\")(x)\n",
    "    x = Dropout(0.40)(x)\n",
    "    x = MaxPooling1D(3)(x)\n",
    "#     x = Conv1D(128, 3, activation='selu', kernel_initializer=\"lecun_normal\")(x)\n",
    "#     x = AlphaDropout(0.45)(x)\n",
    "#     x = MaxPooling1D(3)(x)\n",
    "#     x = Conv1D(128, 3, activation='selu', kernel_initializer=\"lecun_normal\")(x)\n",
    "#     x = AlphaDropout(0.45)(x)\n",
    "    x = GlobalMaxPooling1D()(x)\n",
    "    x = Dense(128, activation='relu', kernel_initializer=\"he_normal\")(x)\n",
    "#     x = AlphaDropout(0.45)(x)\n",
    "    output = Dense(len(CLASSES), activation='sigmoid')(x)\n",
    "    model = Model(input_, output)\n",
    "    return model"
   ]
  },
  {
   "cell_type": "code",
   "execution_count": 58,
   "metadata": {},
   "outputs": [],
   "source": [
    "def create_lstm_model():\n",
    "    input_ = Input(shape=(MAX_SEQUENCE_LENGTH,))\n",
    "    x = embed_layer(input_)\n",
    "    x = LSTM(15, return_sequences=True)(x)\n",
    "    x = GlobalMaxPool1D()(x)\n",
    "    output = Dense(len(CLASSES), activation=\"sigmoid\")(x)\n",
    "    model = Model(input_, output)\n",
    "    return model"
   ]
  },
  {
   "cell_type": "code",
   "execution_count": 115,
   "metadata": {},
   "outputs": [],
   "source": [
    "def create_bidirectional_model():\n",
    "    input_ = Input(shape=(MAX_SEQUENCE_LENGTH,))\n",
    "    x = embed_layer(input_)\n",
    "    x = Bidirectional(LSTM(15, return_sequences=True))(x)\n",
    "    x = GlobalMaxPool1D()(x)\n",
    "#     x = Bidirectional(LSTM(15, dropout=0.4, recurrent_dropout=0.4))(x)\n",
    "    output = Dense(len(CLASSES), activation=\"sigmoid\")(x)\n",
    "    model = Model(input_, output)\n",
    "    return model"
   ]
  },
  {
   "cell_type": "code",
   "execution_count": 116,
   "metadata": {},
   "outputs": [],
   "source": [
    "model = create_bidirectional_model()"
   ]
  },
  {
   "cell_type": "code",
   "execution_count": 117,
   "metadata": {
    "scrolled": true
   },
   "outputs": [
    {
     "data": {
      "text/plain": [
       "{'name': 'model_7',\n",
       " 'layers': [{'class_name': 'InputLayer',\n",
       "   'config': {'batch_input_shape': (None, 100),\n",
       "    'dtype': 'float32',\n",
       "    'sparse': False,\n",
       "    'ragged': False,\n",
       "    'name': 'input_9'},\n",
       "   'name': 'input_9',\n",
       "   'inbound_nodes': []},\n",
       "  {'class_name': 'Embedding',\n",
       "   'config': {'name': 'embedding',\n",
       "    'trainable': False,\n",
       "    'batch_input_shape': (None, 100),\n",
       "    'dtype': 'float32',\n",
       "    'input_dim': 20000,\n",
       "    'output_dim': 100,\n",
       "    'embeddings_initializer': {'class_name': 'RandomUniform',\n",
       "     'config': {'minval': -0.05, 'maxval': 0.05, 'seed': None}},\n",
       "    'embeddings_regularizer': None,\n",
       "    'activity_regularizer': None,\n",
       "    'embeddings_constraint': None,\n",
       "    'mask_zero': False,\n",
       "    'input_length': 100},\n",
       "   'name': 'embedding',\n",
       "   'inbound_nodes': [[['input_9', 0, 0, {}]]]},\n",
       "  {'class_name': 'Bidirectional',\n",
       "   'config': {'name': 'bidirectional_3',\n",
       "    'trainable': True,\n",
       "    'dtype': 'float32',\n",
       "    'layer': {'class_name': 'LSTM',\n",
       "     'config': {'name': 'lstm_7',\n",
       "      'trainable': True,\n",
       "      'dtype': 'float32',\n",
       "      'return_sequences': True,\n",
       "      'return_state': False,\n",
       "      'go_backwards': False,\n",
       "      'stateful': False,\n",
       "      'unroll': False,\n",
       "      'time_major': False,\n",
       "      'units': 15,\n",
       "      'activation': 'tanh',\n",
       "      'recurrent_activation': 'sigmoid',\n",
       "      'use_bias': True,\n",
       "      'kernel_initializer': {'class_name': 'GlorotUniform',\n",
       "       'config': {'seed': None}},\n",
       "      'recurrent_initializer': {'class_name': 'Orthogonal',\n",
       "       'config': {'gain': 1.0, 'seed': None}},\n",
       "      'bias_initializer': {'class_name': 'Zeros', 'config': {}},\n",
       "      'unit_forget_bias': True,\n",
       "      'kernel_regularizer': None,\n",
       "      'recurrent_regularizer': None,\n",
       "      'bias_regularizer': None,\n",
       "      'activity_regularizer': None,\n",
       "      'kernel_constraint': None,\n",
       "      'recurrent_constraint': None,\n",
       "      'bias_constraint': None,\n",
       "      'dropout': 0.0,\n",
       "      'recurrent_dropout': 0.0,\n",
       "      'implementation': 2}},\n",
       "    'merge_mode': 'concat'},\n",
       "   'name': 'bidirectional_3',\n",
       "   'inbound_nodes': [[['embedding', 0, 0, {}]]]},\n",
       "  {'class_name': 'GlobalMaxPooling1D',\n",
       "   'config': {'name': 'global_max_pooling1d_5',\n",
       "    'trainable': True,\n",
       "    'dtype': 'float32',\n",
       "    'data_format': 'channels_last'},\n",
       "   'name': 'global_max_pooling1d_5',\n",
       "   'inbound_nodes': [[['bidirectional_3', 0, 0, {}]]]},\n",
       "  {'class_name': 'Dense',\n",
       "   'config': {'name': 'dense_8',\n",
       "    'trainable': True,\n",
       "    'dtype': 'float32',\n",
       "    'units': 6,\n",
       "    'activation': 'sigmoid',\n",
       "    'use_bias': True,\n",
       "    'kernel_initializer': {'class_name': 'GlorotUniform',\n",
       "     'config': {'seed': None}},\n",
       "    'bias_initializer': {'class_name': 'Zeros', 'config': {}},\n",
       "    'kernel_regularizer': None,\n",
       "    'bias_regularizer': None,\n",
       "    'activity_regularizer': None,\n",
       "    'kernel_constraint': None,\n",
       "    'bias_constraint': None},\n",
       "   'name': 'dense_8',\n",
       "   'inbound_nodes': [[['global_max_pooling1d_5', 0, 0, {}]]]}],\n",
       " 'input_layers': [['input_9', 0, 0]],\n",
       " 'output_layers': [['dense_8', 0, 0]]}"
      ]
     },
     "execution_count": 117,
     "metadata": {},
     "output_type": "execute_result"
    }
   ],
   "source": [
    "model.get_config()"
   ]
  },
  {
   "cell_type": "code",
   "execution_count": 118,
   "metadata": {},
   "outputs": [],
   "source": [
    "model.compile(\n",
    "  loss='binary_crossentropy',\n",
    "  optimizer=Nadam(lr=0.001, beta_1=0.9, beta_2=0.999),\n",
    "  metrics=['accuracy']\n",
    ")"
   ]
  },
  {
   "cell_type": "code",
   "execution_count": 119,
   "metadata": {
    "scrolled": true
   },
   "outputs": [
    {
     "name": "stdout",
     "output_type": "stream",
     "text": [
      "Train on 127484 samples, validate on 31872 samples\n",
      "Epoch 1/10\n",
      "127484/127484 [==============================] - 11s 86us/sample - loss: 0.1046 - accuracy: 0.9691 - val_loss: 0.0668 - val_accuracy: 0.9770\n",
      "Epoch 2/10\n",
      "127484/127484 [==============================] - 9s 72us/sample - loss: 0.0636 - accuracy: 0.9783 - val_loss: 0.0609 - val_accuracy: 0.9785\n",
      "Epoch 3/10\n",
      "127484/127484 [==============================] - 9s 73us/sample - loss: 0.0572 - accuracy: 0.9796 - val_loss: 0.0579 - val_accuracy: 0.9795\n",
      "Epoch 4/10\n",
      "127484/127484 [==============================] - 9s 73us/sample - loss: 0.0541 - accuracy: 0.9805 - val_loss: 0.0549 - val_accuracy: 0.9803\n",
      "Epoch 5/10\n",
      "127484/127484 [==============================] - 9s 73us/sample - loss: 0.0517 - accuracy: 0.9812 - val_loss: 0.0533 - val_accuracy: 0.9809\n",
      "Epoch 6/10\n",
      "127484/127484 [==============================] - 9s 73us/sample - loss: 0.0500 - accuracy: 0.9817 - val_loss: 0.0526 - val_accuracy: 0.9812\n",
      "Epoch 7/10\n",
      "127484/127484 [==============================] - 9s 73us/sample - loss: 0.0486 - accuracy: 0.9821 - val_loss: 0.0517 - val_accuracy: 0.9812\n",
      "Epoch 8/10\n",
      "127484/127484 [==============================] - 9s 73us/sample - loss: 0.0476 - accuracy: 0.9824 - val_loss: 0.0510 - val_accuracy: 0.9817\n",
      "Epoch 9/10\n",
      "127484/127484 [==============================] - 9s 73us/sample - loss: 0.0466 - accuracy: 0.9827 - val_loss: 0.0508 - val_accuracy: 0.9817\n",
      "Epoch 10/10\n",
      "127484/127484 [==============================] - 9s 73us/sample - loss: 0.0458 - accuracy: 0.9829 - val_loss: 0.0507 - val_accuracy: 0.9817\n"
     ]
    }
   ],
   "source": [
    "history = model.fit(\n",
    "  X,\n",
    "  y,\n",
    "  batch_size=BATCH_SIZE,\n",
    "  epochs=EPOCHS,\n",
    "  validation_split=VALIDATION_SPLIT\n",
    ")"
   ]
  },
  {
   "cell_type": "code",
   "execution_count": 120,
   "metadata": {},
   "outputs": [
    {
     "data": {
      "image/png": "[encoded data removed]",
      "text/plain": [
       "<Figure size 432x288 with 1 Axes>"
      ]
     },
     "metadata": {
      "needs_background": "light"
     },
     "output_type": "display_data"
    }
   ],
   "source": [
    "# plot some data\n",
    "plt.plot(history.history['loss'], label='loss')\n",
    "plt.plot(history.history['val_loss'], label='val_loss')\n",
    "plt.legend()\n",
    "plt.grid()\n",
    "plt.show()"
   ]
  },
  {
   "cell_type": "code",
   "execution_count": 121,
   "metadata": {},
   "outputs": [
    {
     "data": {
      "image/png": "[encoded data removed]",
      "text/plain": [
       "<Figure size 432x288 with 1 Axes>"
      ]
     },
     "metadata": {
      "needs_background": "light"
     },
     "output_type": "display_data"
    }
   ],
   "source": [
    "# accuracies\n",
    "plt.plot(history.history['accuracy'], label='acc')\n",
    "plt.plot(history.history['val_accuracy'], label='val_acc')\n",
    "plt.legend()\n",
    "plt.grid()\n",
    "plt.show()"
   ]
  },
  {
   "cell_type": "code",
   "execution_count": 122,
   "metadata": {},
   "outputs": [
    {
     "name": "stdout",
     "output_type": "stream",
     "text": [
      "MEAN auc :  0.7293324880179838\n"
     ]
    }
   ],
   "source": [
    "# plot the mean AUC over each label\n",
    "p = model.predict(X)\n",
    "p = np.where(p > 0.5, 1, 0)\n",
    "aucs = []\n",
    "for j in range(6):\n",
    "    auc = roc_auc_score(y[:,j], p[:,j])\n",
    "    aucs.append(auc)\n",
    "print(\"MEAN auc : \", np.mean(aucs))"
   ]
  },
  {
   "cell_type": "code",
   "execution_count": 123,
   "metadata": {
    "scrolled": true
   },
   "outputs": [
    {
     "name": "stdout",
     "output_type": "stream",
     "text": [
      "For class :  toxic\n",
      "True neg :  142544\n",
      "False pos :  1519\n",
      "False neg :  4423\n",
      "True pos :  10870\n",
      "\n",
      "For class :  severe_toxic\n",
      "True neg :  157464\n",
      "False pos :  297\n",
      "False neg :  1150\n",
      "True pos :  445\n",
      "\n",
      "For class :  obscene\n",
      "True neg :  149879\n",
      "False pos :  1028\n",
      "False neg :  1913\n",
      "True pos :  6536\n",
      "\n",
      "For class :  threat\n",
      "True neg :  158876\n",
      "False pos :  2\n",
      "False neg :  470\n",
      "True pos :  8\n",
      "\n",
      "For class :  insult\n",
      "True neg :  149913\n",
      "False pos :  1566\n",
      "False neg :  2681\n",
      "True pos :  5196\n",
      "\n",
      "For class :  identity_hate\n",
      "True neg :  157758\n",
      "False pos :  193\n",
      "False neg :  923\n",
      "True pos :  482\n",
      "\n"
     ]
    }
   ],
   "source": [
    "for i in range(len(CLASSES)):\n",
    "    print(\"For class : \", CLASSES[i])\n",
    "    tn, fp, fn, tp = confusion_matrix(y[:,i], p[:,i]).ravel()\n",
    "    print(\"True neg : \", tn)\n",
    "    print(\"False pos : \", fp)\n",
    "    print(\"False neg : \", fn)\n",
    "    print(\"True pos : \", tp)\n",
    "    print()"
   ]
  },
  {
   "cell_type": "code",
   "execution_count": 124,
   "metadata": {
    "scrolled": true
   },
   "outputs": [
    {
     "name": "stdout",
     "output_type": "stream",
     "text": [
      "For class :  toxic\n",
      "              precision    recall  f1-score   support\n",
      "\n",
      "           0       0.97      0.99      0.98    144063\n",
      "           1       0.88      0.71      0.79     15293\n",
      "\n",
      "    accuracy                           0.96    159356\n",
      "   macro avg       0.92      0.85      0.88    159356\n",
      "weighted avg       0.96      0.96      0.96    159356\n",
      "\n",
      "\n",
      "For class :  severe_toxic\n",
      "              precision    recall  f1-score   support\n",
      "\n",
      "           0       0.99      1.00      1.00    157761\n",
      "           1       0.60      0.28      0.38      1595\n",
      "\n",
      "    accuracy                           0.99    159356\n",
      "   macro avg       0.80      0.64      0.69    159356\n",
      "weighted avg       0.99      0.99      0.99    159356\n",
      "\n",
      "\n",
      "For class :  obscene\n",
      "              precision    recall  f1-score   support\n",
      "\n",
      "           0       0.99      0.99      0.99    150907\n",
      "           1       0.86      0.77      0.82      8449\n",
      "\n",
      "    accuracy                           0.98    159356\n",
      "   macro avg       0.93      0.88      0.90    159356\n",
      "weighted avg       0.98      0.98      0.98    159356\n",
      "\n",
      "\n",
      "For class :  threat\n",
      "              precision    recall  f1-score   support\n",
      "\n",
      "           0       1.00      1.00      1.00    158878\n",
      "           1       0.80      0.02      0.03       478\n",
      "\n",
      "    accuracy                           1.00    159356\n",
      "   macro avg       0.90      0.51      0.52    159356\n",
      "weighted avg       1.00      1.00      1.00    159356\n",
      "\n",
      "\n",
      "For class :  insult\n",
      "              precision    recall  f1-score   support\n",
      "\n",
      "           0       0.98      0.99      0.99    151479\n",
      "           1       0.77      0.66      0.71      7877\n",
      "\n",
      "    accuracy                           0.97    159356\n",
      "   macro avg       0.88      0.82      0.85    159356\n",
      "weighted avg       0.97      0.97      0.97    159356\n",
      "\n",
      "\n",
      "For class :  identity_hate\n",
      "              precision    recall  f1-score   support\n",
      "\n",
      "           0       0.99      1.00      1.00    157951\n",
      "           1       0.71      0.34      0.46      1405\n",
      "\n",
      "    accuracy                           0.99    159356\n",
      "   macro avg       0.85      0.67      0.73    159356\n",
      "weighted avg       0.99      0.99      0.99    159356\n",
      "\n",
      "\n"
     ]
    }
   ],
   "source": [
    "for i in range(len(CLASSES)):\n",
    "    print(\"For class : \", CLASSES[i])\n",
    "    print(classification_report(y[:,i], p[:,i]))\n",
    "    print()"
   ]
  },
  {
   "cell_type": "code",
   "execution_count": 125,
   "metadata": {},
   "outputs": [
    {
     "name": "stdout",
     "output_type": "stream",
     "text": [
      "ROC for CLASS : toxic is 0.8501193564661658.\n",
      "ROC for CLASS : severe_toxic is 0.6385571353230857.\n",
      "ROC for CLASS : obscene is 0.8833852649638715.\n",
      "ROC for CLASS : threat is 0.5083619066991799.\n",
      "ROC for CLASS : insult is 0.8246519645104651.\n",
      "ROC for CLASS : identity_hate is 0.6709193001451349.\n"
     ]
    }
   ],
   "source": [
    "for i in range(len(CLASSES)):\n",
    "    print(\"ROC for CLASS : {} is {}.\".format(CLASSES[i], roc_auc_score(y[:, i], p[:, i])))"
   ]
  },
  {
   "cell_type": "code",
   "execution_count": 126,
   "metadata": {},
   "outputs": [
    {
     "name": "stdout",
     "output_type": "stream",
     "text": [
      "Precision for CLASS : toxic is 0.8773912341593348.\n",
      "Precision for CLASS : severe_toxic is 0.5997304582210242.\n",
      "Precision for CLASS : obscene is 0.86409307244844.\n",
      "Precision for CLASS : threat is 0.8.\n",
      "Precision for CLASS : insult is 0.7684117125110914.\n",
      "Precision for CLASS : identity_hate is 0.7140740740740741.\n"
     ]
    }
   ],
   "source": [
    "for i in range(len(CLASSES)):\n",
    "    print(\"Precision for CLASS : {} is {}.\".format(CLASSES[i], precision_score(y[:, i], p[:, i])))"
   ]
  },
  {
   "cell_type": "code",
   "execution_count": 127,
   "metadata": {},
   "outputs": [
    {
     "name": "stdout",
     "output_type": "stream",
     "text": [
      "Recall for CLASS : toxic is 0.7107827110442686.\n",
      "Recall for CLASS : severe_toxic is 0.27899686520376177.\n",
      "Recall for CLASS : obscene is 0.773582672505622.\n",
      "Recall for CLASS : threat is 0.016736401673640166.\n",
      "Recall for CLASS : insult is 0.6596419956836359.\n",
      "Recall for CLASS : identity_hate is 0.34306049822064055.\n"
     ]
    }
   ],
   "source": [
    "for i in range(len(CLASSES)):\n",
    "    print(\"Recall for CLASS : {} is {}.\".format(CLASSES[i], recall_score(y[:, i], p[:, i])))"
   ]
  },
  {
   "cell_type": "code",
   "execution_count": 128,
   "metadata": {},
   "outputs": [
    {
     "name": "stdout",
     "output_type": "stream",
     "text": [
      "Accuracy for CLASS : toxic is 0.9627124174803584.\n",
      "Accuracy for CLASS : severe_toxic is 0.990919701799744.\n",
      "Accuracy for CLASS : obscene is 0.9815444664775722.\n",
      "Accuracy for CLASS : threat is 0.9970380782650167.\n",
      "Accuracy for CLASS : insult is 0.9733489796430633.\n",
      "Accuracy for CLASS : identity_hate is 0.9929968121689802.\n"
     ]
    }
   ],
   "source": [
    "for i in range(len(CLASSES)):\n",
    "    print(\"Accuracy for CLASS : {} is {}.\".format(CLASSES[i], accuracy_score(y[:, i], p[:, i])))"
   ]
  },
  {
   "cell_type": "code",
   "execution_count": null,
   "metadata": {},
   "outputs": [],
   "source": []
  }
 ],
 "metadata": {
  "kernelspec": {
   "display_name": "Python 3",
   "language": "python",
   "name": "python3"
  },
  "language_info": {
   "codemirror_mode": {
    "name": "ipython",
    "version": 3
   },
   "file_extension": ".py",
   "mimetype": "text/x-python",
   "name": "python",
   "nbconvert_exporter": "python",
   "pygments_lexer": "ipython3",
   "version": "3.7.2"
  }
 },
 "nbformat": 4,
 "nbformat_minor": 4
}
