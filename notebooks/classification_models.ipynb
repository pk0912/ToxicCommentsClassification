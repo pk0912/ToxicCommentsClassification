{
 "cells": [
  {
   "cell_type": "markdown",
   "metadata": {},
   "source": [
    "## OBJECTIVE : "
   ]
  },
  {
   "cell_type": "markdown",
   "metadata": {},
   "source": [
    "### Prepare classification model for classifying comments into various categories : toxic, severe_toxic, obscene, threat, insult, identity_hate"
   ]
  },
  {
   "cell_type": "code",
   "execution_count": 1,
   "metadata": {},
   "outputs": [],
   "source": [
    "import warnings\n",
    "warnings.simplefilter(\"ignore\")"
   ]
  },
  {
   "cell_type": "code",
   "execution_count": 2,
   "metadata": {},
   "outputs": [
    {
     "name": "stdout",
     "output_type": "stream",
     "text": [
      "Numpy Version :  1.18.2\n",
      "Pandas Version :  1.0.3\n",
      "Matplotlib Version :  3.2.1\n"
     ]
    }
   ],
   "source": [
    "import os\n",
    "import sys\n",
    "import ipdb\n",
    "import numpy as np\n",
    "import pandas as pd\n",
    "\n",
    "print(\"Numpy Version : \", np.__version__)\n",
    "print(\"Pandas Version : \", pd.__version__)\n",
    "\n",
    "np.random.seed(42)\n",
    "\n",
    "%matplotlib inline\n",
    "import matplotlib as mpl\n",
    "import matplotlib.pyplot as plt\n",
    "import seaborn as sns\n",
    "mpl.rc('axes', labelsize=14)\n",
    "mpl.rc('xtick', labelsize=12)\n",
    "mpl.rc('ytick', labelsize=12)\n",
    "\n",
    "print(\"Matplotlib Version : \", mpl.__version__)"
   ]
  },
  {
   "cell_type": "code",
   "execution_count": 63,
   "metadata": {},
   "outputs": [],
   "source": [
    "from joblib import load\n",
    "from tensorflow.keras.layers import Dense, Input, GlobalMaxPooling1D, LSTM, GlobalMaxPool1D, Bidirectional\n",
    "from tensorflow.keras.layers import Conv1D, MaxPooling1D, Embedding, Dropout, AlphaDropout\n",
    "from tensorflow.keras.models import Model, Sequential\n",
    "from tensorflow.keras.optimizers import SGD, Nadam\n",
    "from tensorflow.keras.callbacks import EarlyStopping\n",
    "from sklearn.metrics import accuracy_score, roc_auc_score, confusion_matrix, classification_report, precision_score, recall_score, f1_score"
   ]
  },
  {
   "cell_type": "code",
   "execution_count": 4,
   "metadata": {},
   "outputs": [],
   "source": [
    "sys.path.insert(0, os.path.abspath(os.path.join(\"..\")))"
   ]
  },
  {
   "cell_type": "code",
   "execution_count": 5,
   "metadata": {},
   "outputs": [],
   "source": [
    "import utils.text_processing as tp\n",
    "from config import GLOVE_PATH, MAX_VOCAB_SIZE, MAX_SEQUENCE_LENGTH, EMBEDDING_DIM, VALIDATION_SPLIT, BATCH_SIZE, EPOCHS"
   ]
  },
  {
   "cell_type": "code",
   "execution_count": 6,
   "metadata": {},
   "outputs": [],
   "source": [
    "DATA_DIR = \"../data/\"\n",
    "OBJECT_DIR = \"../objects/\"\n",
    "LOG_DIR = \"../logs/\""
   ]
  },
  {
   "cell_type": "code",
   "execution_count": 7,
   "metadata": {},
   "outputs": [],
   "source": [
    "TRAIN_DIR = os.path.join(DATA_DIR, \"training_data/word_2_index/\")"
   ]
  },
  {
   "cell_type": "code",
   "execution_count": 8,
   "metadata": {},
   "outputs": [],
   "source": [
    "CLASSES = [\"toxic\", \"severe_toxic\", \"obscene\", \"threat\", \"insult\", \"identity_hate\"]"
   ]
  },
  {
   "cell_type": "code",
   "execution_count": 9,
   "metadata": {},
   "outputs": [],
   "source": [
    "train_data = pd.read_csv(os.path.join(TRAIN_DIR, \"vectors_complex.csv\"), encoding=\"utf-8\")"
   ]
  },
  {
   "cell_type": "code",
   "execution_count": 10,
   "metadata": {},
   "outputs": [
    {
     "data": {
      "text/html": [
       "<div>\n",
       "<style scoped>\n",
       "    .dataframe tbody tr th:only-of-type {\n",
       "        vertical-align: middle;\n",
       "    }\n",
       "\n",
       "    .dataframe tbody tr th {\n",
       "        vertical-align: top;\n",
       "    }\n",
       "\n",
       "    .dataframe thead th {\n",
       "        text-align: right;\n",
       "    }\n",
       "</style>\n",
       "<table border=\"1\" class=\"dataframe\">\n",
       "  <thead>\n",
       "    <tr style=\"text-align: right;\">\n",
       "      <th></th>\n",
       "      <th>0</th>\n",
       "      <th>1</th>\n",
       "      <th>2</th>\n",
       "      <th>3</th>\n",
       "      <th>4</th>\n",
       "      <th>5</th>\n",
       "      <th>6</th>\n",
       "      <th>7</th>\n",
       "      <th>8</th>\n",
       "      <th>9</th>\n",
       "      <th>...</th>\n",
       "      <th>96</th>\n",
       "      <th>97</th>\n",
       "      <th>98</th>\n",
       "      <th>99</th>\n",
       "      <th>toxic</th>\n",
       "      <th>severe_toxic</th>\n",
       "      <th>obscene</th>\n",
       "      <th>threat</th>\n",
       "      <th>insult</th>\n",
       "      <th>identity_hate</th>\n",
       "    </tr>\n",
       "  </thead>\n",
       "  <tbody>\n",
       "    <tr>\n",
       "      <th>0</th>\n",
       "      <td>0</td>\n",
       "      <td>0</td>\n",
       "      <td>0</td>\n",
       "      <td>0</td>\n",
       "      <td>0</td>\n",
       "      <td>0</td>\n",
       "      <td>0</td>\n",
       "      <td>0</td>\n",
       "      <td>0</td>\n",
       "      <td>0</td>\n",
       "      <td>...</td>\n",
       "      <td>2</td>\n",
       "      <td>2058</td>\n",
       "      <td>16</td>\n",
       "      <td>15</td>\n",
       "      <td>0</td>\n",
       "      <td>0</td>\n",
       "      <td>0</td>\n",
       "      <td>0</td>\n",
       "      <td>0</td>\n",
       "      <td>0</td>\n",
       "    </tr>\n",
       "    <tr>\n",
       "      <th>1</th>\n",
       "      <td>0</td>\n",
       "      <td>0</td>\n",
       "      <td>0</td>\n",
       "      <td>0</td>\n",
       "      <td>0</td>\n",
       "      <td>0</td>\n",
       "      <td>0</td>\n",
       "      <td>0</td>\n",
       "      <td>0</td>\n",
       "      <td>0</td>\n",
       "      <td>...</td>\n",
       "      <td>697</td>\n",
       "      <td>9</td>\n",
       "      <td>4</td>\n",
       "      <td>91</td>\n",
       "      <td>0</td>\n",
       "      <td>0</td>\n",
       "      <td>0</td>\n",
       "      <td>0</td>\n",
       "      <td>0</td>\n",
       "      <td>0</td>\n",
       "    </tr>\n",
       "    <tr>\n",
       "      <th>2</th>\n",
       "      <td>0</td>\n",
       "      <td>0</td>\n",
       "      <td>0</td>\n",
       "      <td>0</td>\n",
       "      <td>0</td>\n",
       "      <td>0</td>\n",
       "      <td>0</td>\n",
       "      <td>0</td>\n",
       "      <td>0</td>\n",
       "      <td>0</td>\n",
       "      <td>...</td>\n",
       "      <td>218</td>\n",
       "      <td>571</td>\n",
       "      <td>76</td>\n",
       "      <td>302</td>\n",
       "      <td>0</td>\n",
       "      <td>0</td>\n",
       "      <td>0</td>\n",
       "      <td>0</td>\n",
       "      <td>0</td>\n",
       "      <td>0</td>\n",
       "    </tr>\n",
       "    <tr>\n",
       "      <th>3</th>\n",
       "      <td>0</td>\n",
       "      <td>0</td>\n",
       "      <td>0</td>\n",
       "      <td>0</td>\n",
       "      <td>0</td>\n",
       "      <td>0</td>\n",
       "      <td>0</td>\n",
       "      <td>0</td>\n",
       "      <td>0</td>\n",
       "      <td>0</td>\n",
       "      <td>...</td>\n",
       "      <td>17</td>\n",
       "      <td>1</td>\n",
       "      <td>680</td>\n",
       "      <td>2996</td>\n",
       "      <td>0</td>\n",
       "      <td>0</td>\n",
       "      <td>0</td>\n",
       "      <td>0</td>\n",
       "      <td>0</td>\n",
       "      <td>0</td>\n",
       "    </tr>\n",
       "    <tr>\n",
       "      <th>4</th>\n",
       "      <td>0</td>\n",
       "      <td>0</td>\n",
       "      <td>0</td>\n",
       "      <td>0</td>\n",
       "      <td>0</td>\n",
       "      <td>0</td>\n",
       "      <td>0</td>\n",
       "      <td>0</td>\n",
       "      <td>0</td>\n",
       "      <td>0</td>\n",
       "      <td>...</td>\n",
       "      <td>2140</td>\n",
       "      <td>677</td>\n",
       "      <td>371</td>\n",
       "      <td>2</td>\n",
       "      <td>0</td>\n",
       "      <td>0</td>\n",
       "      <td>0</td>\n",
       "      <td>0</td>\n",
       "      <td>0</td>\n",
       "      <td>0</td>\n",
       "    </tr>\n",
       "  </tbody>\n",
       "</table>\n",
       "<p>5 rows × 106 columns</p>\n",
       "</div>"
      ],
      "text/plain": [
       "   0  1  2  3  4  5  6  7  8  9  ...    96    97   98    99  toxic  \\\n",
       "0  0  0  0  0  0  0  0  0  0  0  ...     2  2058   16    15      0   \n",
       "1  0  0  0  0  0  0  0  0  0  0  ...   697     9    4    91      0   \n",
       "2  0  0  0  0  0  0  0  0  0  0  ...   218   571   76   302      0   \n",
       "3  0  0  0  0  0  0  0  0  0  0  ...    17     1  680  2996      0   \n",
       "4  0  0  0  0  0  0  0  0  0  0  ...  2140   677  371     2      0   \n",
       "\n",
       "   severe_toxic  obscene  threat  insult  identity_hate  \n",
       "0             0        0       0       0              0  \n",
       "1             0        0       0       0              0  \n",
       "2             0        0       0       0              0  \n",
       "3             0        0       0       0              0  \n",
       "4             0        0       0       0              0  \n",
       "\n",
       "[5 rows x 106 columns]"
      ]
     },
     "execution_count": 10,
     "metadata": {},
     "output_type": "execute_result"
    }
   ],
   "source": [
    "train_data.head()"
   ]
  },
  {
   "cell_type": "code",
   "execution_count": 11,
   "metadata": {},
   "outputs": [],
   "source": [
    "X = train_data[[str(i) for i in np.arange(0, 100, 1)]].values\n",
    "y = train_data[CLASSES].values"
   ]
  },
  {
   "cell_type": "code",
   "execution_count": 12,
   "metadata": {},
   "outputs": [
    {
     "data": {
      "text/plain": [
       "((159356, 100), (159356, 6))"
      ]
     },
     "execution_count": 12,
     "metadata": {},
     "output_type": "execute_result"
    }
   ],
   "source": [
    "X.shape, y.shape"
   ]
  },
  {
   "cell_type": "code",
   "execution_count": 13,
   "metadata": {},
   "outputs": [
    {
     "data": {
      "text/plain": [
       "array([[   0,    0,    0, ..., 2058,   16,   15],\n",
       "       [   0,    0,    0, ...,    9,    4,   91],\n",
       "       [   0,    0,    0, ...,  571,   76,  302],\n",
       "       ...,\n",
       "       [   0,    0,    0, ..., 2029, 9403, 2902],\n",
       "       [   0,    0,    0, ...,  189,   18,   27],\n",
       "       [   0,    0,    0, ...,  206,   30,  958]])"
      ]
     },
     "execution_count": 13,
     "metadata": {},
     "output_type": "execute_result"
    }
   ],
   "source": [
    "X"
   ]
  },
  {
   "cell_type": "code",
   "execution_count": 14,
   "metadata": {},
   "outputs": [
    {
     "data": {
      "text/plain": [
       "array([[0, 0, 0, 0, 0, 0],\n",
       "       [0, 0, 0, 0, 0, 0],\n",
       "       [0, 0, 0, 0, 0, 0],\n",
       "       ...,\n",
       "       [0, 0, 0, 0, 0, 0],\n",
       "       [0, 0, 0, 0, 0, 0],\n",
       "       [0, 0, 0, 0, 0, 0]])"
      ]
     },
     "execution_count": 14,
     "metadata": {},
     "output_type": "execute_result"
    }
   ],
   "source": [
    "y"
   ]
  },
  {
   "cell_type": "code",
   "execution_count": 15,
   "metadata": {},
   "outputs": [],
   "source": [
    "tokenizer = load(os.path.join(OBJECT_DIR, \"tokenizer.joblib\"))"
   ]
  },
  {
   "cell_type": "code",
   "execution_count": 16,
   "metadata": {},
   "outputs": [],
   "source": [
    "word_ind_dict = tokenizer.word_index"
   ]
  },
  {
   "cell_type": "code",
   "execution_count": 17,
   "metadata": {},
   "outputs": [
    {
     "data": {
      "text/plain": [
       "'/home/praveen/pk_works/nlp/glove/glove.6B.100d.txt'"
      ]
     },
     "execution_count": 17,
     "metadata": {},
     "output_type": "execute_result"
    }
   ],
   "source": [
    "GLOVE_PATH = \"/home/praveen/pk_works/nlp/glove\"\n",
    "GLOVE_PATH = os.path.join(GLOVE_PATH, \"glove.6B.{}d.txt\".format(EMBEDDING_DIM))\n",
    "GLOVE_PATH"
   ]
  },
  {
   "cell_type": "code",
   "execution_count": 18,
   "metadata": {},
   "outputs": [],
   "source": [
    "num_words = min(MAX_VOCAB_SIZE, len(word_ind_dict) + 1)"
   ]
  },
  {
   "cell_type": "code",
   "execution_count": 19,
   "metadata": {},
   "outputs": [
    {
     "data": {
      "text/plain": [
       "20000"
      ]
     },
     "execution_count": 19,
     "metadata": {},
     "output_type": "execute_result"
    }
   ],
   "source": [
    "num_words"
   ]
  },
  {
   "cell_type": "code",
   "execution_count": 20,
   "metadata": {},
   "outputs": [
    {
     "data": {
      "text/plain": [
       "151081"
      ]
     },
     "execution_count": 20,
     "metadata": {},
     "output_type": "execute_result"
    }
   ],
   "source": [
    "len(word_ind_dict)"
   ]
  },
  {
   "cell_type": "code",
   "execution_count": 21,
   "metadata": {},
   "outputs": [],
   "source": [
    "embed_matrix = tp.get_embedding_matrix(GLOVE_PATH, word_ind_dict, num_words, EMBEDDING_DIM, MAX_VOCAB_SIZE)"
   ]
  },
  {
   "cell_type": "code",
   "execution_count": 22,
   "metadata": {},
   "outputs": [],
   "source": [
    "embed_layer = tp.get_embedding_layer(num_words, EMBEDDING_DIM, embed_matrix, MAX_SEQUENCE_LENGTH)"
   ]
  },
  {
   "cell_type": "code",
   "execution_count": 23,
   "metadata": {},
   "outputs": [
    {
     "data": {
      "text/plain": [
       "(20000, 100)"
      ]
     },
     "execution_count": 23,
     "metadata": {},
     "output_type": "execute_result"
    }
   ],
   "source": [
    "embed_matrix.shape"
   ]
  },
  {
   "cell_type": "code",
   "execution_count": 24,
   "metadata": {},
   "outputs": [
    {
     "data": {
      "text/plain": [
       "{'name': 'embedding',\n",
       " 'trainable': False,\n",
       " 'batch_input_shape': (None, 100),\n",
       " 'dtype': 'float32',\n",
       " 'input_dim': 20000,\n",
       " 'output_dim': 100,\n",
       " 'embeddings_initializer': {'class_name': 'RandomUniform',\n",
       "  'config': {'minval': -0.05, 'maxval': 0.05, 'seed': None}},\n",
       " 'embeddings_regularizer': None,\n",
       " 'activity_regularizer': None,\n",
       " 'embeddings_constraint': None,\n",
       " 'mask_zero': False,\n",
       " 'input_length': 100}"
      ]
     },
     "execution_count": 24,
     "metadata": {},
     "output_type": "execute_result"
    }
   ],
   "source": [
    "embed_layer.get_config()"
   ]
  },
  {
   "cell_type": "code",
   "execution_count": 25,
   "metadata": {},
   "outputs": [
    {
     "data": {
      "text/plain": [
       "(20000, 100, 100)"
      ]
     },
     "execution_count": 25,
     "metadata": {},
     "output_type": "execute_result"
    }
   ],
   "source": [
    "num_words, EMBEDDING_DIM, MAX_SEQUENCE_LENGTH"
   ]
  },
  {
   "cell_type": "code",
   "execution_count": 97,
   "metadata": {},
   "outputs": [],
   "source": [
    "def create_cnn_model():\n",
    "    # train a 1D convnet with global maxpooling\n",
    "    input_ = Input(shape=(MAX_SEQUENCE_LENGTH,))\n",
    "    x = embed_layer(input_)\n",
    "    x = Conv1D(128, 3, activation='relu', kernel_initializer=\"he_normal\")(x)\n",
    "    x = Dropout(0.40)(x)\n",
    "    x = MaxPooling1D(3)(x)\n",
    "#     x = Conv1D(128, 3, activation='selu', kernel_initializer=\"lecun_normal\")(x)\n",
    "#     x = AlphaDropout(0.45)(x)\n",
    "#     x = MaxPooling1D(3)(x)\n",
    "#     x = Conv1D(128, 3, activation='selu', kernel_initializer=\"lecun_normal\")(x)\n",
    "#     x = AlphaDropout(0.45)(x)\n",
    "    x = GlobalMaxPooling1D()(x)\n",
    "    x = Dense(128, activation='relu', kernel_initializer=\"he_normal\")(x)\n",
    "#     x = AlphaDropout(0.45)(x)\n",
    "#     output = Dense(len(CLASSES), activation='sigmoid')(x)\n",
    "    output = Dense(1, activation='sigmoid')(x)\n",
    "    model = Model(input_, output)\n",
    "    return model"
   ]
  },
  {
   "cell_type": "code",
   "execution_count": 80,
   "metadata": {},
   "outputs": [],
   "source": [
    "# wavenet architecture\n",
    "def create_cnn_dilation_model():\n",
    "    model = Sequential()\n",
    "    model.add(Input(shape=(MAX_SEQUENCE_LENGTH,)))\n",
    "    model.add(embed_layer)\n",
    "    for rate in (1, 2, 4, 8) * 2:\n",
    "        model.add(Conv1D(filters=20, kernel_size=2, padding=\"causal\", \n",
    "                         activation=\"relu\", kernel_initializer=\"he_normal\", dilation_rate=rate))\n",
    "        model.add(Dropout(0.35))\n",
    "    model.add(GlobalMaxPooling1D())\n",
    "    model.add(Dense(128, activation='relu', kernel_initializer=\"he_normal\"))\n",
    "    model.add(Dropout(0.45))\n",
    "#     model.add(Dense(len(CLASSES), activation='sigmoid'))\n",
    "    model.add(Dense(1, activation='sigmoid'))\n",
    "    return model"
   ]
  },
  {
   "cell_type": "code",
   "execution_count": 58,
   "metadata": {},
   "outputs": [],
   "source": [
    "def create_lstm_model():\n",
    "    input_ = Input(shape=(MAX_SEQUENCE_LENGTH,))\n",
    "    x = embed_layer(input_)\n",
    "    x = LSTM(15, return_sequences=True)(x)\n",
    "    x = GlobalMaxPool1D()(x)\n",
    "    output = Dense(len(CLASSES), activation=\"sigmoid\")(x)\n",
    "    model = Model(input_, output)\n",
    "    return model"
   ]
  },
  {
   "cell_type": "code",
   "execution_count": 115,
   "metadata": {},
   "outputs": [],
   "source": [
    "def create_bidirectional_model():\n",
    "    input_ = Input(shape=(MAX_SEQUENCE_LENGTH,))\n",
    "    x = embed_layer(input_)\n",
    "    x = Bidirectional(LSTM(15, return_sequences=True))(x)\n",
    "    x = GlobalMaxPool1D()(x)\n",
    "#     x = Bidirectional(LSTM(15, dropout=0.4, recurrent_dropout=0.4))(x)\n",
    "    output = Dense(len(CLASSES), activation=\"sigmoid\")(x)\n",
    "    model = Model(input_, output)\n",
    "    return model"
   ]
  },
  {
   "cell_type": "code",
   "execution_count": 98,
   "metadata": {},
   "outputs": [],
   "source": [
    "model = create_cnn_model()"
   ]
  },
  {
   "cell_type": "code",
   "execution_count": 99,
   "metadata": {
    "scrolled": true
   },
   "outputs": [
    {
     "data": {
      "text/plain": [
       "{'name': 'model',\n",
       " 'layers': [{'class_name': 'InputLayer',\n",
       "   'config': {'batch_input_shape': (None, 100),\n",
       "    'dtype': 'float32',\n",
       "    'sparse': False,\n",
       "    'ragged': False,\n",
       "    'name': 'input_6'},\n",
       "   'name': 'input_6',\n",
       "   'inbound_nodes': []},\n",
       "  {'class_name': 'Embedding',\n",
       "   'config': {'name': 'embedding',\n",
       "    'trainable': False,\n",
       "    'batch_input_shape': (None, 100),\n",
       "    'dtype': 'float32',\n",
       "    'input_dim': 20000,\n",
       "    'output_dim': 100,\n",
       "    'embeddings_initializer': {'class_name': 'RandomUniform',\n",
       "     'config': {'minval': -0.05, 'maxval': 0.05, 'seed': None}},\n",
       "    'embeddings_regularizer': None,\n",
       "    'activity_regularizer': None,\n",
       "    'embeddings_constraint': None,\n",
       "    'mask_zero': False,\n",
       "    'input_length': 100},\n",
       "   'name': 'embedding',\n",
       "   'inbound_nodes': [[['input_6', 0, 0, {}]]]},\n",
       "  {'class_name': 'Conv1D',\n",
       "   'config': {'name': 'conv1d_40',\n",
       "    'trainable': True,\n",
       "    'dtype': 'float32',\n",
       "    'filters': 128,\n",
       "    'kernel_size': (3,),\n",
       "    'strides': (1,),\n",
       "    'padding': 'valid',\n",
       "    'data_format': 'channels_last',\n",
       "    'dilation_rate': (1,),\n",
       "    'activation': 'relu',\n",
       "    'use_bias': True,\n",
       "    'kernel_initializer': {'class_name': 'VarianceScaling',\n",
       "     'config': {'scale': 2.0,\n",
       "      'mode': 'fan_in',\n",
       "      'distribution': 'truncated_normal',\n",
       "      'seed': None}},\n",
       "    'bias_initializer': {'class_name': 'Zeros', 'config': {}},\n",
       "    'kernel_regularizer': None,\n",
       "    'bias_regularizer': None,\n",
       "    'activity_regularizer': None,\n",
       "    'kernel_constraint': None,\n",
       "    'bias_constraint': None},\n",
       "   'name': 'conv1d_40',\n",
       "   'inbound_nodes': [[['embedding', 0, 0, {}]]]},\n",
       "  {'class_name': 'Dropout',\n",
       "   'config': {'name': 'dropout_35',\n",
       "    'trainable': True,\n",
       "    'dtype': 'float32',\n",
       "    'rate': 0.4,\n",
       "    'noise_shape': None,\n",
       "    'seed': None},\n",
       "   'name': 'dropout_35',\n",
       "   'inbound_nodes': [[['conv1d_40', 0, 0, {}]]]},\n",
       "  {'class_name': 'MaxPooling1D',\n",
       "   'config': {'name': 'max_pooling1d',\n",
       "    'trainable': True,\n",
       "    'dtype': 'float32',\n",
       "    'strides': (3,),\n",
       "    'pool_size': (3,),\n",
       "    'padding': 'valid',\n",
       "    'data_format': 'channels_last'},\n",
       "   'name': 'max_pooling1d',\n",
       "   'inbound_nodes': [[['dropout_35', 0, 0, {}]]]},\n",
       "  {'class_name': 'GlobalMaxPooling1D',\n",
       "   'config': {'name': 'global_max_pooling1d_5',\n",
       "    'trainable': True,\n",
       "    'dtype': 'float32',\n",
       "    'data_format': 'channels_last'},\n",
       "   'name': 'global_max_pooling1d_5',\n",
       "   'inbound_nodes': [[['max_pooling1d', 0, 0, {}]]]},\n",
       "  {'class_name': 'Dense',\n",
       "   'config': {'name': 'dense_10',\n",
       "    'trainable': True,\n",
       "    'dtype': 'float32',\n",
       "    'units': 128,\n",
       "    'activation': 'relu',\n",
       "    'use_bias': True,\n",
       "    'kernel_initializer': {'class_name': 'VarianceScaling',\n",
       "     'config': {'scale': 2.0,\n",
       "      'mode': 'fan_in',\n",
       "      'distribution': 'truncated_normal',\n",
       "      'seed': None}},\n",
       "    'bias_initializer': {'class_name': 'Zeros', 'config': {}},\n",
       "    'kernel_regularizer': None,\n",
       "    'bias_regularizer': None,\n",
       "    'activity_regularizer': None,\n",
       "    'kernel_constraint': None,\n",
       "    'bias_constraint': None},\n",
       "   'name': 'dense_10',\n",
       "   'inbound_nodes': [[['global_max_pooling1d_5', 0, 0, {}]]]},\n",
       "  {'class_name': 'Dense',\n",
       "   'config': {'name': 'dense_11',\n",
       "    'trainable': True,\n",
       "    'dtype': 'float32',\n",
       "    'units': 1,\n",
       "    'activation': 'sigmoid',\n",
       "    'use_bias': True,\n",
       "    'kernel_initializer': {'class_name': 'GlorotUniform',\n",
       "     'config': {'seed': None}},\n",
       "    'bias_initializer': {'class_name': 'Zeros', 'config': {}},\n",
       "    'kernel_regularizer': None,\n",
       "    'bias_regularizer': None,\n",
       "    'activity_regularizer': None,\n",
       "    'kernel_constraint': None,\n",
       "    'bias_constraint': None},\n",
       "   'name': 'dense_11',\n",
       "   'inbound_nodes': [[['dense_10', 0, 0, {}]]]}],\n",
       " 'input_layers': [['input_6', 0, 0]],\n",
       " 'output_layers': [['dense_11', 0, 0]]}"
      ]
     },
     "execution_count": 99,
     "metadata": {},
     "output_type": "execute_result"
    }
   ],
   "source": [
    "model.get_config()"
   ]
  },
  {
   "cell_type": "code",
   "execution_count": 100,
   "metadata": {
    "scrolled": false
   },
   "outputs": [
    {
     "name": "stdout",
     "output_type": "stream",
     "text": [
      "Model: \"model\"\n",
      "_________________________________________________________________\n",
      "Layer (type)                 Output Shape              Param #   \n",
      "=================================================================\n",
      "input_6 (InputLayer)         [(None, 100)]             0         \n",
      "_________________________________________________________________\n",
      "embedding (Embedding)        (None, 100, 100)          2000000   \n",
      "_________________________________________________________________\n",
      "conv1d_40 (Conv1D)           (None, 98, 128)           38528     \n",
      "_________________________________________________________________\n",
      "dropout_35 (Dropout)         (None, 98, 128)           0         \n",
      "_________________________________________________________________\n",
      "max_pooling1d (MaxPooling1D) (None, 32, 128)           0         \n",
      "_________________________________________________________________\n",
      "global_max_pooling1d_5 (Glob (None, 128)               0         \n",
      "_________________________________________________________________\n",
      "dense_10 (Dense)             (None, 128)               16512     \n",
      "_________________________________________________________________\n",
      "dense_11 (Dense)             (None, 1)                 129       \n",
      "=================================================================\n",
      "Total params: 2,055,169\n",
      "Trainable params: 55,169\n",
      "Non-trainable params: 2,000,000\n",
      "_________________________________________________________________\n"
     ]
    }
   ],
   "source": [
    "model.summary()"
   ]
  },
  {
   "cell_type": "code",
   "execution_count": 101,
   "metadata": {},
   "outputs": [],
   "source": [
    "model.compile(\n",
    "  loss='binary_crossentropy',\n",
    "  optimizer=Nadam(lr=0.001, beta_1=0.9, beta_2=0.999),\n",
    "  metrics=['accuracy']\n",
    ")"
   ]
  },
  {
   "cell_type": "code",
   "execution_count": 102,
   "metadata": {
    "scrolled": true
   },
   "outputs": [
    {
     "name": "stdout",
     "output_type": "stream",
     "text": [
      "Train on 127484 samples, validate on 31872 samples\n",
      "Epoch 1/50\n",
      "127484/127484 [==============================] - 6s 44us/sample - loss: 0.0216 - accuracy: 0.9966 - val_loss: 0.0159 - val_accuracy: 0.9971\n",
      "Epoch 2/50\n",
      "127484/127484 [==============================] - 5s 37us/sample - loss: 0.0126 - accuracy: 0.9971 - val_loss: 0.0254 - val_accuracy: 0.9965\n",
      "Epoch 3/50\n",
      "127484/127484 [==============================] - 5s 37us/sample - loss: 0.0110 - accuracy: 0.9972 - val_loss: 0.0152 - val_accuracy: 0.9970\n",
      "Epoch 4/50\n",
      "127484/127484 [==============================] - 5s 37us/sample - loss: 0.0096 - accuracy: 0.9974 - val_loss: 0.0225 - val_accuracy: 0.9959\n",
      "Epoch 5/50\n",
      "127484/127484 [==============================] - 5s 37us/sample - loss: 0.0080 - accuracy: 0.9978 - val_loss: 0.0133 - val_accuracy: 0.9972\n",
      "Epoch 6/50\n",
      "127484/127484 [==============================] - 5s 37us/sample - loss: 0.0073 - accuracy: 0.9979 - val_loss: 0.0149 - val_accuracy: 0.9969\n",
      "Epoch 7/50\n",
      "127484/127484 [==============================] - 5s 37us/sample - loss: 0.0066 - accuracy: 0.9981 - val_loss: 0.0163 - val_accuracy: 0.9968\n",
      "Epoch 8/50\n",
      "127484/127484 [==============================] - 5s 37us/sample - loss: 0.0059 - accuracy: 0.9984 - val_loss: 0.0154 - val_accuracy: 0.9970\n",
      "Epoch 9/50\n",
      "127484/127484 [==============================] - 5s 38us/sample - loss: 0.0059 - accuracy: 0.9984 - val_loss: 0.0161 - val_accuracy: 0.9965\n",
      "Epoch 10/50\n",
      "127484/127484 [==============================] - 5s 38us/sample - loss: 0.0056 - accuracy: 0.9985 - val_loss: 0.0167 - val_accuracy: 0.9969\n",
      "Epoch 11/50\n",
      "127484/127484 [==============================] - 5s 38us/sample - loss: 0.0053 - accuracy: 0.9985 - val_loss: 0.0166 - val_accuracy: 0.9970\n",
      "Epoch 12/50\n",
      "127484/127484 [==============================] - 5s 38us/sample - loss: 0.0049 - accuracy: 0.9987 - val_loss: 0.0184 - val_accuracy: 0.9971\n",
      "Epoch 13/50\n",
      "127484/127484 [==============================] - 5s 38us/sample - loss: 0.0047 - accuracy: 0.9987 - val_loss: 0.0181 - val_accuracy: 0.9967\n",
      "Epoch 14/50\n",
      "127484/127484 [==============================] - 5s 38us/sample - loss: 0.0048 - accuracy: 0.9987 - val_loss: 0.0186 - val_accuracy: 0.9970\n",
      "Epoch 15/50\n",
      "127484/127484 [==============================] - 5s 38us/sample - loss: 0.0044 - accuracy: 0.9988 - val_loss: 0.0206 - val_accuracy: 0.9973\n"
     ]
    }
   ],
   "source": [
    "history = model.fit(\n",
    "    X,\n",
    "    y[:, 3],\n",
    "    batch_size=BATCH_SIZE,\n",
    "    epochs=50,\n",
    "    validation_split=VALIDATION_SPLIT,\n",
    "    callbacks=[EarlyStopping(patience=10)]\n",
    ")"
   ]
  },
  {
   "cell_type": "code",
   "execution_count": 103,
   "metadata": {},
   "outputs": [
    {
     "data": {
      "image/png": "[encoded data removed]",
      "text/plain": [
       "<Figure size 432x288 with 1 Axes>"
      ]
     },
     "metadata": {
      "needs_background": "light"
     },
     "output_type": "display_data"
    }
   ],
   "source": [
    "# plot some data\n",
    "plt.plot(history.history['loss'], label='loss')\n",
    "plt.plot(history.history['val_loss'], label='val_loss')\n",
    "plt.legend()\n",
    "plt.grid()\n",
    "plt.show()"
   ]
  },
  {
   "cell_type": "code",
   "execution_count": 104,
   "metadata": {},
   "outputs": [
    {
     "data": {
      "image/png": "[encoded data removed]",
      "text/plain": [
       "<Figure size 432x288 with 1 Axes>"
      ]
     },
     "metadata": {
      "needs_background": "light"
     },
     "output_type": "display_data"
    }
   ],
   "source": [
    "# accuracies\n",
    "plt.plot(history.history['accuracy'], label='acc')\n",
    "plt.plot(history.history['val_accuracy'], label='val_acc')\n",
    "plt.legend()\n",
    "plt.grid()\n",
    "plt.show()"
   ]
  },
  {
   "cell_type": "code",
   "execution_count": 108,
   "metadata": {},
   "outputs": [
    {
     "name": "stdout",
     "output_type": "stream",
     "text": [
      "Shape of predicted values :  (159356, 1)\n",
      "Shape of target values :  (159356,)\n",
      "True neg :  158838\n",
      "False pos :  40\n",
      "False neg :  127\n",
      "True pos :  351\n",
      "\n",
      "              precision    recall  f1-score   support\n",
      "\n",
      "           0       1.00      1.00      1.00    158878\n",
      "           1       0.90      0.73      0.81       478\n",
      "\n",
      "    accuracy                           1.00    159356\n",
      "   macro avg       0.95      0.87      0.90    159356\n",
      "weighted avg       1.00      1.00      1.00    159356\n",
      "\n",
      "\n",
      "ROC : 0.867028928962677\n",
      "\n",
      "Precision : 0.8976982097186701\n",
      "\n",
      "Accuracy : 0.9989520319285122\n",
      "\n",
      "Recall : 0.7343096234309623\n",
      "\n",
      "F1 : 0.807825086306099\n",
      "\n"
     ]
    }
   ],
   "source": [
    "# For threat class only\n",
    "p = model.predict(X)\n",
    "p = np.where(p > 0.5, 1, 0)\n",
    "print(\"Shape of predicted values : \", p.shape)\n",
    "print(\"Shape of target values : \", y[:,3].shape)\n",
    "tn, fp, fn, tp = confusion_matrix(y[:,3], p).ravel()\n",
    "print(\"True neg : \", tn)\n",
    "print(\"False pos : \", fp)\n",
    "print(\"False neg : \", fn)\n",
    "print(\"True pos : \", tp)\n",
    "print()\n",
    "print(classification_report(y[:,3], p))\n",
    "print()\n",
    "print(\"ROC : {}\".format(roc_auc_score(y[:, 3], p)))\n",
    "print()\n",
    "print(\"Precision : {}\".format(precision_score(y[:, 3], p)))\n",
    "print()\n",
    "print(\"Accuracy : {}\".format(accuracy_score(y[:, 3], p)))\n",
    "print()\n",
    "print(\"Recall : {}\".format(recall_score(y[:, 3], p)))\n",
    "print()\n",
    "print(\"F1 : {}\".format(f1_score(y[:, 3], p)))\n",
    "print()"
   ]
  },
  {
   "cell_type": "markdown",
   "metadata": {},
   "source": [
    "#### If training is done for all the classes"
   ]
  },
  {
   "cell_type": "code",
   "execution_count": null,
   "metadata": {},
   "outputs": [],
   "source": [
    "# plot the mean AUC over each label\n",
    "p = model.predict(X)\n",
    "p = np.where(p > 0.5, 1, 0)\n",
    "aucs = []\n",
    "for j in range(6):\n",
    "    auc = roc_auc_score(y[:,j], p[:,j])\n",
    "    aucs.append(auc)\n",
    "print(\"MEAN auc : \", np.mean(aucs))"
   ]
  },
  {
   "cell_type": "code",
   "execution_count": 73,
   "metadata": {
    "scrolled": true
   },
   "outputs": [
    {
     "name": "stdout",
     "output_type": "stream",
     "text": [
      "For class :  toxic\n",
      "True neg :  143653\n",
      "False pos :  410\n",
      "False neg :  7363\n",
      "True pos :  7930\n",
      "\n",
      "For class :  severe_toxic\n",
      "True neg :  157761\n",
      "False pos :  0\n",
      "False neg :  1595\n",
      "True pos :  0\n",
      "\n",
      "For class :  obscene\n",
      "True neg :  150876\n",
      "False pos :  31\n",
      "False neg :  6386\n",
      "True pos :  2063\n",
      "\n",
      "For class :  threat\n",
      "True neg :  158878\n",
      "False pos :  0\n",
      "False neg :  478\n",
      "True pos :  0\n",
      "\n",
      "For class :  insult\n",
      "True neg :  151371\n",
      "False pos :  108\n",
      "False neg :  6578\n",
      "True pos :  1299\n",
      "\n",
      "For class :  identity_hate\n",
      "True neg :  157951\n",
      "False pos :  0\n",
      "False neg :  1405\n",
      "True pos :  0\n",
      "\n"
     ]
    }
   ],
   "source": [
    "for i in range(len(CLASSES)):\n",
    "    print(\"For class : \", CLASSES[i])\n",
    "    tn, fp, fn, tp = confusion_matrix(y[:,i], p[:,i]).ravel()\n",
    "    print(\"True neg : \", tn)\n",
    "    print(\"False pos : \", fp)\n",
    "    print(\"False neg : \", fn)\n",
    "    print(\"True pos : \", tp)\n",
    "    print()"
   ]
  },
  {
   "cell_type": "code",
   "execution_count": 37,
   "metadata": {
    "scrolled": true
   },
   "outputs": [
    {
     "name": "stdout",
     "output_type": "stream",
     "text": [
      "For class :  toxic\n",
      "              precision    recall  f1-score   support\n",
      "\n",
      "           0       0.96      0.99      0.98    144063\n",
      "           1       0.89      0.66      0.75     15293\n",
      "\n",
      "    accuracy                           0.96    159356\n",
      "   macro avg       0.93      0.82      0.87    159356\n",
      "weighted avg       0.96      0.96      0.96    159356\n",
      "\n",
      "\n",
      "For class :  severe_toxic\n",
      "              precision    recall  f1-score   support\n",
      "\n",
      "           0       0.99      1.00      1.00    157761\n",
      "           1       0.67      0.13      0.22      1595\n",
      "\n",
      "    accuracy                           0.99    159356\n",
      "   macro avg       0.83      0.56      0.61    159356\n",
      "weighted avg       0.99      0.99      0.99    159356\n",
      "\n",
      "\n",
      "For class :  obscene\n",
      "              precision    recall  f1-score   support\n",
      "\n",
      "           0       0.98      0.99      0.99    150907\n",
      "           1       0.87      0.72      0.79      8449\n",
      "\n",
      "    accuracy                           0.98    159356\n",
      "   macro avg       0.93      0.86      0.89    159356\n",
      "weighted avg       0.98      0.98      0.98    159356\n",
      "\n",
      "\n",
      "For class :  threat\n",
      "              precision    recall  f1-score   support\n",
      "\n",
      "           0       1.00      1.00      1.00    158878\n",
      "           1       0.00      0.00      0.00       478\n",
      "\n",
      "    accuracy                           1.00    159356\n",
      "   macro avg       0.50      0.50      0.50    159356\n",
      "weighted avg       0.99      1.00      1.00    159356\n",
      "\n",
      "\n",
      "For class :  insult\n",
      "              precision    recall  f1-score   support\n",
      "\n",
      "           0       0.97      0.99      0.98    151479\n",
      "           1       0.83      0.46      0.59      7877\n",
      "\n",
      "    accuracy                           0.97    159356\n",
      "   macro avg       0.90      0.73      0.79    159356\n",
      "weighted avg       0.97      0.97      0.96    159356\n",
      "\n",
      "\n",
      "For class :  identity_hate\n",
      "              precision    recall  f1-score   support\n",
      "\n",
      "           0       0.99      1.00      1.00    157951\n",
      "           1       0.00      0.00      0.00      1405\n",
      "\n",
      "    accuracy                           0.99    159356\n",
      "   macro avg       0.50      0.50      0.50    159356\n",
      "weighted avg       0.98      0.99      0.99    159356\n",
      "\n",
      "\n"
     ]
    }
   ],
   "source": [
    "for i in range(len(CLASSES)):\n",
    "    print(\"For class : \", CLASSES[i])\n",
    "    print(classification_report(y[:,i], p[:,i]))\n",
    "    print()"
   ]
  },
  {
   "cell_type": "code",
   "execution_count": 38,
   "metadata": {},
   "outputs": [
    {
     "name": "stdout",
     "output_type": "stream",
     "text": [
      "ROC for CLASS : toxic is 0.8231921649429097.\n",
      "ROC for CLASS : severe_toxic is 0.5639368797199861.\n",
      "ROC for CLASS : obscene is 0.8584345398050113.\n",
      "ROC for CLASS : threat is 0.5.\n",
      "ROC for CLASS : insult is 0.7256272400041394.\n",
      "ROC for CLASS : identity_hate is 0.5.\n"
     ]
    }
   ],
   "source": [
    "for i in range(len(CLASSES)):\n",
    "    print(\"ROC for CLASS : {} is {}.\".format(CLASSES[i], roc_auc_score(y[:, i], p[:, i])))"
   ]
  },
  {
   "cell_type": "code",
   "execution_count": 39,
   "metadata": {},
   "outputs": [
    {
     "name": "stdout",
     "output_type": "stream",
     "text": [
      "Precision for CLASS : toxic is 0.8896882494004796.\n",
      "Precision for CLASS : severe_toxic is 0.6655844155844156.\n",
      "Precision for CLASS : obscene is 0.8698376530902877.\n",
      "Precision for CLASS : threat is 0.0.\n",
      "Precision for CLASS : insult is 0.8256374913852516.\n",
      "Precision for CLASS : identity_hate is 0.0.\n"
     ]
    }
   ],
   "source": [
    "for i in range(len(CLASSES)):\n",
    "    print(\"Precision for CLASS : {} is {}.\".format(CLASSES[i], precision_score(y[:, i], p[:, i])))"
   ]
  },
  {
   "cell_type": "code",
   "execution_count": 40,
   "metadata": {},
   "outputs": [
    {
     "name": "stdout",
     "output_type": "stream",
     "text": [
      "Recall for CLASS : toxic is 0.6550055580984764.\n",
      "Recall for CLASS : severe_toxic is 0.12852664576802508.\n",
      "Recall for CLASS : obscene is 0.7229257900343236.\n",
      "Recall for CLASS : threat is 0.0.\n",
      "Recall for CLASS : insult is 0.4562650755363717.\n",
      "Recall for CLASS : identity_hate is 0.0.\n"
     ]
    }
   ],
   "source": [
    "for i in range(len(CLASSES)):\n",
    "    print(\"Recall for CLASS : {} is {}.\".format(CLASSES[i], recall_score(y[:, i], p[:, i])))"
   ]
  },
  {
   "cell_type": "code",
   "execution_count": 41,
   "metadata": {},
   "outputs": [
    {
     "name": "stdout",
     "output_type": "stream",
     "text": [
      "Accuracy for CLASS : toxic is 0.9590978689224127.\n",
      "Accuracy for CLASS : severe_toxic is 0.9906310399357413.\n",
      "Accuracy for CLASS : obscene is 0.9795740354928587.\n",
      "Accuracy for CLASS : threat is 0.9970004267175381.\n",
      "Accuracy for CLASS : insult is 0.9683601496021487.\n",
      "Accuracy for CLASS : identity_hate is 0.9911832626320942.\n"
     ]
    }
   ],
   "source": [
    "for i in range(len(CLASSES)):\n",
    "    print(\"Accuracy for CLASS : {} is {}.\".format(CLASSES[i], accuracy_score(y[:, i], p[:, i])))"
   ]
  },
  {
   "cell_type": "code",
   "execution_count": null,
   "metadata": {},
   "outputs": [],
   "source": []
  }
 ],
 "metadata": {
  "kernelspec": {
   "display_name": "Python 3",
   "language": "python",
   "name": "python3"
  },
  "language_info": {
   "codemirror_mode": {
    "name": "ipython",
    "version": 3
   },
   "file_extension": ".py",
   "mimetype": "text/x-python",
   "name": "python",
   "nbconvert_exporter": "python",
   "pygments_lexer": "ipython3",
   "version": "3.7.2"
  }
 },
 "nbformat": 4,
 "nbformat_minor": 4
}
